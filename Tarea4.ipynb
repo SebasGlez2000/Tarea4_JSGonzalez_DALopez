{
 "cells": [
  {
   "cell_type": "markdown",
   "metadata": {},
   "source": [
    "<img style=\"float: left; margin: 30px 15px 15px 15px;\" src=\"https://pngimage.net/wp-content/uploads/2018/06/logo-iteso-png-5.png\" width=\"300\" height=\"500\" /> \n",
    "    \n",
    "    \n",
    "### <font color='navy'> Simulación de procesos financieros. \n",
    "\n",
    "**Nombres:** Diego Alberto López Lazareno y Jesús Sebastián González Ortiz.\n",
    "\n",
    "**Fecha:** 21 de septiembre del 2021.\n",
    "\n",
    "**Expediente** : 722100 y 721621.\n",
    "**Profesor:** Oscar David Jaramillo Zuluaga.\n",
    "    \n",
    "**Link Github**: https://github.com/SebasGlez2000/Tarea4_JSGonzalez_DALopez\n",
    "\n",
    "# Tarea 4: Clase 7"
   ]
  },
  {
   "cell_type": "markdown",
   "metadata": {},
   "source": [
    "## Enunciado de tarea \n",
    "\n",
    "**Ejercicio 1.** Como ejemplo simple de una simulación de Monte Carlo, considere calcular la probabilidad de una suma particular del lanzamiento de tres dados (cada dado tiene valores del uno al seis). Además cada dado tiene las siguientes carácterísticas: el primer dado no está cargado (distribución uniforme todos son equiprobables); el segundo y tercer dado están cargados basados en una distribución binomial con parámetros (`n=5, p=0.5` y `n=5, p=0.2`). Calcule la probabilidad de que la suma resultante sea 7, 14 o 18. \n",
    "\n",
    "**Ejercicio 2.** \n",
    "Premisas para la simulación:\n",
    "- Negocio de alimentos que vende bebidas y alimentos.\n",
    "- Negocio dentro del ITESO.\n",
    "- Negocio en cafetería central.\n",
    "- Tipo de clientes (hombres y mujeres).\n",
    "- Rentabilidad del 60%.\n",
    "\n",
    "Objetivo\n",
    "Realizar una simulación estimado el tiempo medio que se tardaran los clientes en ser atendidos entre el horario de 6:30 a 1 pm. Además saber el consumo. \n",
    "**Analizar supuestos y limitantes**\n",
    "\n",
    "Supuestos en simulación\n",
    "Clasificación de clientes: \n",
    "- Mujer  = 1 $\\longrightarrow$ aleatorio < 0.5\n",
    "- Hombre = 0 $\\longrightarrow$ aleatorio $\\geq$ 0.5.\n",
    "\n",
    "Condiciones iniciales:\n",
    "- Todas las distrubuciones de probabilidad se supondrán uniformes.\n",
    "- Tiempo de simulación: 6:30 am - 1:30pm $\\longrightarrow$ T = 7 horas = 25200 seg.\n",
    "- Tiempo de llegada hasta ser atendido: Min=5seg, Max=30seg.\n",
    "- Tiempo que tardan los clientes en ser atendidos:\n",
    "    - Mujer: Min = 1 min= 60seg, Max = 5 min = 300 seg\n",
    "    - Hombre: Min = 40 seg, Max = 2 min= 120 seg\n",
    "- Consumo según el tipo de cliente:\n",
    "    - Mujer: Min = 30 pesos, Max = 100 pesos\n",
    "    - Hombre: Min = 20 pesos, Max = 80 pesos\n",
    "\n",
    "Responder las siguientes preguntas basados en los datos del problema:\n",
    "1. ¿Cuáles fueron los gastos de los hombres y las mujeres en 5 días de trabajo?.\n",
    "2. ¿Cuál fue el consumo promedio de los hombres y mujeres?\n",
    "3. ¿Cuál fue el número de personas atendidas por día?\n",
    "4. ¿Cuál fue el tiempo de atención promedio?\n",
    "5. ¿Cuánto fue la ganancia promedio de la cafetería en 5 días de trabajo y su respectiva rentabilidad?"
   ]
  },
  {
   "cell_type": "code",
   "execution_count": 1,
   "metadata": {},
   "outputs": [],
   "source": [
    "# Librerías necesarias\n",
    "import scipy.stats as st\n",
    "import numpy as np\n",
    "import pandas as pd "
   ]
  },
  {
   "cell_type": "markdown",
   "metadata": {},
   "source": [
    "### Ejercicio 1: (enunciado) "
   ]
  },
  {
   "cell_type": "markdown",
   "metadata": {},
   "source": [
    "Como ejemplo simple de una simulación de Monte Carlo, considere calcular la probabilidad de una suma particular del lanzamiento de tres dados (cada dado tiene valores del uno al seis). Además cada dado tiene las siguientes carácterísticas: el primer dado no está cargado (distribución uniforme todos son equiprobables); el segundo y tercer dado están cargados basados en una distribución binomial con parámetros (`n=5, p=0.5` y `n=5, p=0.2`). Calcule la probabilidad de que la suma resultante sea 7, 14 o 18. "
   ]
  },
  {
   "cell_type": "markdown",
   "metadata": {},
   "source": [
    "#### Código de solución Sebastián"
   ]
  },
  {
   "cell_type": "code",
   "execution_count": 2,
   "metadata": {},
   "outputs": [],
   "source": [
    "# Código de solución estudiante 1\n"
   ]
  },
  {
   "cell_type": "markdown",
   "metadata": {},
   "source": []
  },
  {
   "cell_type": "markdown",
   "metadata": {},
   "source": [
    "#### Código de solución Diego"
   ]
  },
  {
   "cell_type": "code",
   "execution_count": 3,
   "metadata": {},
   "outputs": [],
   "source": [
    "# Código de solución estudiante 2\n",
    "\n",
    "def ThreeDiceThrowing(p1 = \"Probability of a single success for dice #2\", \n",
    "                      p2 = \"Probability of a single success for dice #3\", size = \"Throwings\"):\n",
    "    \n",
    "    \"\"\" Returns the sum of a three dice throwing:\n",
    "        The first dice follows a uniform distribution,\n",
    "        The second dice follows a binomial distribution with a probability of a single success of p1,\n",
    "        The third dice follows a binominal distribution with a probability of a single success of p2\n",
    "        Size is the number of throwings that will be the same for all dices\n",
    "    \"\"\"\n",
    "    np.random.seed(616)\n",
    "    dice1 = np.random.randint(1, 7, size)\n",
    "    dice2 = st.binom(5, p1, loc = 1).rvs(size = size)\n",
    "    dice3 = st.binom(5, p2, loc = 1).rvs(size = size)\n",
    "    \n",
    "    return dice1 + dice2 + dice3\n"
   ]
  },
  {
   "cell_type": "code",
   "execution_count": 4,
   "metadata": {},
   "outputs": [
    {
     "data": {
      "text/plain": [
       "[('Probability that the resulting dice roll sum is 7 : ', 0.127023),\n",
       " ('Probability that the resulting dice roll sum is 14 : ', 0.013619),\n",
       " ('Probability that the resulting dice roll sum is 18 : ', 0.0)]"
      ]
     },
     "execution_count": 4,
     "metadata": {},
     "output_type": "execute_result"
    }
   ],
   "source": [
    "result = ThreeDiceThrowing(0.5, 0.2, 1000000)\n",
    "n = len(result)\n",
    "probabilities = list(map(lambda number : (\"Probability that the resulting dice roll sum is \" + str(number) + \" : \", \n",
    "                                          len(result[result == number]) / n), [7, 14, 18]))\n",
    "probabilities"
   ]
  },
  {
   "cell_type": "markdown",
   "metadata": {},
   "source": [
    "La resolución de este ejercicio es relativamente sencilla, se propone el uso de la función `map` para ir calculando la probabilidad de que al tirar los $3$ dados con sus respectivas especificaciones arrojen como suma los números $7$, $14$ y $18$. Los resultados son los siguientes:\n",
    "\n",
    "+ La probabilidad de que la suma resultante al lanzar los tres dados sea $7$ es de $12.70\\%$.\n",
    "+ La probabilidad de que la suma resultante al lanzar los tres dados sea $14$ es de $1.36\\%$.\n",
    "+ La probabilidad de que la suma resultante al lanzar los tres dados sea $18$ es de $0.00\\%$."
   ]
  },
  {
   "cell_type": "markdown",
   "metadata": {},
   "source": [
    "### 2 Ejercicio de aplicación- Cafetería Central\n",
    "\n",
    "Premisas para la simulación:\n",
    "- Negocio de alimentos que vende bebidas y alimentos.\n",
    "- Negocio dentro del ITESO.\n",
    "- Negocio en cafetería central.\n",
    "- Tipo de clientes (hombres y mujeres).\n",
    "- Rentabilidad del 60%.\n",
    "\n",
    "### Objetivo\n",
    "Realizar una simulación estimado el tiempo medio que se tardaran los clientes en ser atendidos entre el horario de 6:30 a 1 pm. Además saber el consumo. \n",
    "**Analizar supuestos y limitantes**"
   ]
  },
  {
   "cell_type": "markdown",
   "metadata": {},
   "source": [
    "## Supuestos en simulación\n",
    "Clasificación de clientes: \n",
    "- Mujer  = 1 $\\longrightarrow$ aleatorio < 0.5\n",
    "- Hombre = 0 $\\longrightarrow$ aleatorio $\\geq$ 0.5.\n",
    "\n",
    "Condiciones iniciales:\n",
    "- Todas las distrubuciones de probabilidad se supondrán uniformes.\n",
    "- Tiempo de simulación: 6:30 am - 1:30pm $\\longrightarrow$ T = 7 horas = 25200 seg.\n",
    "- Tiempo de llegada hasta ser atendido: Min=5seg, Max=30seg.\n",
    "- Tiempo que tardan los clientes en ser atendidos:\n",
    "    - Mujer: Min = 1 min= 60seg, Max = 5 min = 300 seg\n",
    "    - Hombre: Min = 40 seg, Max = 2 min= 120 seg\n",
    "- Consumo según el tipo de cliente:\n",
    "    - Mujer: Min = 30 pesos, Max = 100 pesos\n",
    "    - Hombre: Min = 20 pesos, Max = 80 pesos\n",
    "\n",
    "Responder las siguientes preguntas basados en los datos del problema:\n",
    "1. ¿Cuáles fueron los gastos de los hombres y las mujeres en 5 días de trabajo?.\n",
    "2. ¿Cuál fue el consumo promedio de los hombres y mujeres?\n",
    "3. ¿Cuál fue el número de personas atendidas por día?\n",
    "4. ¿Cuál fue el tiempo de atención promedio?\n",
    "5. ¿Cuánto fue la ganancia promedio de la cafetería en 5 días de trabajo y su respectiva rentabilidad?"
   ]
  },
  {
   "cell_type": "code",
   "execution_count": 5,
   "metadata": {},
   "outputs": [],
   "source": [
    "################## Datos del problema\n",
    "d = 5\n",
    "T = 25200\n",
    "T_at_min = 5; T_at_max = 30\n",
    "T_mujer_min = 60; T_mujer_max = 300\n",
    "T_hombre_min = 40; T_hombre_max = 120\n",
    "C_mujer_min = 30; C_mujer_max = 100\n",
    "C_hombre_min = 20; C_hombre_max = 80"
   ]
  },
  {
   "cell_type": "markdown",
   "metadata": {},
   "source": [
    "#### Código de solución Sebastián"
   ]
  },
  {
   "cell_type": "code",
   "execution_count": 6,
   "metadata": {},
   "outputs": [],
   "source": [
    "# Código de solución estudiante 1\n"
   ]
  },
  {
   "cell_type": "markdown",
   "metadata": {},
   "source": []
  },
  {
   "cell_type": "markdown",
   "metadata": {},
   "source": [
    "#### Código de solución Diego"
   ]
  },
  {
   "cell_type": "code",
   "execution_count": 7,
   "metadata": {},
   "outputs": [],
   "source": [
    "# Código de solución estudiante 2\n",
    "\n",
    "def CofeeShop(seed):\n",
    "    # Semilla\n",
    "    np.random.seed(seed)\n",
    "    # Número de clientes\n",
    "    n = 500\n",
    "    # Almacenamiento de los datos\n",
    "    data = pd.DataFrame(columns = [\"Sex\", \"Waiting\", \"Customer Support\", \"Consumption\"], index = range(n))\n",
    "    \n",
    "    ## ----------------------------------------------- Simulación ------------------------------------------------ ##\n",
    "    # Sexo del cliente\n",
    "    data[\"Sex\"] = list(map(lambda rand : 1 if rand < 0.5 else 0, list(np.random.uniform(size = n))))\n",
    "    # Tiempo de espera hasta ser atendido\n",
    "    data[\"Waiting\"] = np.random.uniform(T_at_min, T_at_max, size = n)\n",
    "    # Tiempo que tarda en cliente en ser atendido\n",
    "    data[\"Customer Support\"] = list(map(lambda sex : np.random.uniform(T_mujer_min, T_mujer_max) if sex == 1 \n",
    "                                        else np.random.uniform(T_hombre_min, T_hombre_max), list(data[\"Sex\"])))\n",
    "    # Consumo \n",
    "    data[\"Consumption\"] = list(map(lambda sex : np.random.uniform(C_mujer_min, C_mujer_max) if sex == 1 \n",
    "                                        else np.random.uniform(C_hombre_min, C_hombre_max), list(data[\"Sex\"])))\n",
    "    \n",
    "    # Tiempo total de espera y atención por cliente\n",
    "    data[\"Time Per Customer\"] = data[\"Waiting\"] + data[\"Customer Support\"]\n",
    "    # Tiempo acumulado en la simulación\n",
    "    data[\"Accumulated Time\"] = data[\"Time Per Customer\"].cumsum()\n",
    "    \n",
    "    # Se filtra el DataFrame hasta donde alcanza el tiempo de simulación\n",
    "    return data[data[\"Accumulated Time\"] <= T]\n",
    "\n",
    "# Simulación para 5 días \n",
    "seeds = [2001, 2010*616, 2061*8, 3001, 1984]\n",
    "df = {\"día \" + str(i + 1) : CofeeShop(seeds[i]) for i in range(d)}"
   ]
  },
  {
   "cell_type": "code",
   "execution_count": 8,
   "metadata": {
    "scrolled": true
   },
   "outputs": [
    {
     "name": "stdout",
     "output_type": "stream",
     "text": [
      "Los gastos de los hombres en 5 días fueron de 19791.653526913822 pesos\n",
      "Los gastos de las mujeres en 5 días fueron de 27840.11059746975 pesos\n"
     ]
    }
   ],
   "source": [
    "# Pregunta 1\n",
    "ans1 = list(map(lambda sex : sum(list(map(lambda key : \n",
    "                                          sum(list(df[key][df[key][\"Sex\"] == sex][\"Consumption\"])), df.keys()))), [0, 1]))\n",
    "\n",
    "print(\"Los gastos de los hombres en 5 días fueron de \" + str(ans1[0]) + \" pesos\")\n",
    "print(\"Los gastos de las mujeres en 5 días fueron de \" + str(ans1[1]) + \" pesos\")"
   ]
  },
  {
   "cell_type": "code",
   "execution_count": 9,
   "metadata": {},
   "outputs": [
    {
     "name": "stdout",
     "output_type": "stream",
     "text": [
      "El consumo promedio de los hombres en 5 días fue de 49.5124544776996 pesos\n",
      "El consumo promedio de las mujeres en 5 días fue de 63.13278002244307 pesos\n"
     ]
    }
   ],
   "source": [
    "# Pregunta 2\n",
    "ans2 = list(map(lambda sex : np.mean(list(map(lambda key : \n",
    "                                          np.mean(list(df[key][df[key][\"Sex\"] == sex][\"Consumption\"])), df.keys()))), [0, 1]))\n",
    "\n",
    "print(\"El consumo promedio de los hombres en 5 días fue de \" + str(ans2[0]) + \" pesos\")\n",
    "print(\"El consumo promedio de las mujeres en 5 días fue de \" + str(ans2[1]) + \" pesos\")"
   ]
  },
  {
   "cell_type": "code",
   "execution_count": 10,
   "metadata": {},
   "outputs": [
    {
     "data": {
      "text/plain": [
       "['En el día 1 se atendieron 166 personas',\n",
       " 'En el día 2 se atendieron 163 personas',\n",
       " 'En el día 3 se atendieron 173 personas',\n",
       " 'En el día 4 se atendieron 164 personas',\n",
       " 'En el día 5 se atendieron 174 personas']"
      ]
     },
     "execution_count": 10,
     "metadata": {},
     "output_type": "execute_result"
    }
   ],
   "source": [
    "# Pregunta 3\n",
    "ans3 = list(map(lambda key : \"En el \" + key + \" se atendieron \" + str(len(df[key])) + \" personas\", df.keys()))\n",
    "ans3"
   ]
  },
  {
   "cell_type": "code",
   "execution_count": 11,
   "metadata": {},
   "outputs": [
    {
     "name": "stdout",
     "output_type": "stream",
     "text": [
      "El tiempo promedio de espera hasta ser atendido fue de 17.317090458861458 segundos\n",
      "El tiempo promedio de atención del cliente fue de 132.02246399061175 segundos\n",
      "El tiempo promedio total (de espera y de atención) fue de 149.33955444947318 segundos\n"
     ]
    }
   ],
   "source": [
    "cols = [\"Waiting\", \"Customer Support\", \"Time Per Customer\"]\n",
    "ans4 = list(map(lambda col : np.mean(list(map(lambda key : np.mean(df[key][col]), df.keys()))), cols))\n",
    "\n",
    "print(\"El tiempo promedio de espera hasta ser atendido fue de \" + str(ans4[0]) + \" segundos\")\n",
    "print(\"El tiempo promedio de atención del cliente fue de \" + str(ans4[1]) + \" segundos\")\n",
    "print(\"El tiempo promedio total (de espera y de atención) fue de \" + str(ans4[2]) + \" segundos\")"
   ]
  },
  {
   "cell_type": "code",
   "execution_count": 12,
   "metadata": {},
   "outputs": [
    {
     "name": "stdout",
     "output_type": "stream",
     "text": [
      "Las ventas promedio de la cafetería en 5 días de trabajo fueron de 9526.352824876714 pesos\n",
      "La rentabilidad promedio de la cafetería en 5 días de trabajo fue de 5715.811694926028 pesos\n"
     ]
    }
   ],
   "source": [
    "# Pregunta 5\n",
    "ans5 = np.mean(list(map(lambda key : sum(df[key][\"Consumption\"]), df.keys())))\n",
    "\n",
    "print(\"Las ventas promedio de la cafetería en 5 días de trabajo fueron de \" + str(ans5) + \" pesos\")\n",
    "print(\"La rentabilidad promedio de la cafetería en 5 días de trabajo fue de \" + str(ans5 * 0.6) + \" pesos\")"
   ]
  },
  {
   "cell_type": "markdown",
   "metadata": {},
   "source": [
    "**1. ¿Cuáles fueron los gastos de los hombres y las mujeres en 5 días de trabajo?.**\n",
    "\n",
    "+ Los gastos totales de los hombres en los 5 días de trabajo fueron de $ \\$ 19,791.65$.\n",
    "+ Los gastos totales de las mujeres en los 5 días de trabajo fueron de $ \\$ 27,840.11$.\n",
    "\n",
    "**2. ¿Cuál fue el consumo promedio de los hombres y mujeres?**\n",
    "+ El consumo promedio de los hombres fue de $ \\$ 49.51$.\n",
    "+ El consumo promedio de las mujeres fue de $ \\$ 63.13$\n",
    "\n",
    "**3. ¿Cuál fue el número de personas atendidas por día?**\n",
    "\n",
    "+ En el día $1$ se atendieron $166$ personas.\n",
    "+ En el día $2$ se atendieron $163$ personas.\n",
    "+ En el día $3$ se atendieron $173$ personas.\n",
    "+ En el día $4$ se atendieron $164$ personas.\n",
    "+ En el día $5$ se atendieron $174$ personas.\n",
    "\n",
    "**4. ¿Cuál fue el tiempo de atención promedio?**\n",
    "\n",
    "+ El tiempo promedio de espera hasta ser atendido fue de $17.31$ segundos\n",
    "+ El tiempo promedio de atención del cliente fue de $132.02$ segundos\n",
    "+ El tiempo promedio total (de espera y de atención) fue de $149.33$ segundos\n",
    "\n",
    "**5. ¿Cuánto fue la ganancia promedio de la cafetería en 5 días de trabajo y su respectiva rentabilidad?**\n",
    "\n",
    "+ La ganancia promedio de la cafetería en 5 días de trabajo fueron de $ \\$ 9,526.35$.\n",
    "+ La rentabilidad promedio de la cafetería en 5 días de trabajo fue de $ \\$ 5,715.81$.\n"
   ]
  }
 ],
 "metadata": {
  "kernelspec": {
   "display_name": "Python 3",
   "language": "python",
   "name": "python3"
  },
  "language_info": {
   "codemirror_mode": {
    "name": "ipython",
    "version": 3
   },
   "file_extension": ".py",
   "mimetype": "text/x-python",
   "name": "python",
   "nbconvert_exporter": "python",
   "pygments_lexer": "ipython3",
   "version": "3.7.1"
  }
 },
 "nbformat": 4,
 "nbformat_minor": 2
}
